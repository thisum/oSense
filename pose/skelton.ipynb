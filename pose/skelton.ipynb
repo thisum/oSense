{
 "cells": [
  {
   "cell_type": "code",
   "execution_count": 53,
   "metadata": {},
   "outputs": [],
   "source": [
    "import numpy as np\n",
    "import pandas as pd\n",
    "import matplotlib.pyplot as plt\n",
    "from scipy import signal\n",
    "from scipy import fftpack\n",
    "import os\n",
    "from sklearn.utils import shuffle\n",
    "from sklearn.model_selection import train_test_split\n",
    "from sklearn import svm\n",
    "from sklearn.grid_search import GridSearchCV\n",
    "from sklearn.metrics import classification_report\n",
    "from sklearn.metrics import accuracy_score\n",
    "from sklearn.metrics import confusion_matrix\n",
    "from sklearn.svm import SVC\n",
    "from sklearn.neural_network import MLPClassifier\n",
    "from sklearn.ensemble import RandomForestClassifier\n",
    "from sklearn import metrics\n",
    "\n",
    "%matplotlib inline"
   ]
  },
  {
   "cell_type": "code",
   "execution_count": 28,
   "metadata": {},
   "outputs": [
    {
     "data": {
      "text/plain": [
       "24\n",
       "bottle_drinking                     6000\n",
       "hammer_hammering                    6000\n",
       "knife_chopping                      6000\n",
       "knife_cutting                       6000\n",
       "mug_drinking                        6000\n",
       "none                                1894\n",
       "pen_writing                         6000\n",
       "saw_sawing                          6000\n",
       "screwdriver_screwing(no-release)    6000\n",
       "screwdriver_screwing(release)       6000\n",
       "spoon_stirring                      6000\n",
       "dtype: int64"
      ]
     },
     "execution_count": 28,
     "metadata": {},
     "output_type": "execute_result"
    }
   ],
   "source": [
    "data_frame=pd.read_csv(\"/Users/thisum/Documents/Personel_Docs/NUS_MSc/Research/MagicHand_Data/posture_data/raw/chamod_q.txt\", header=None)\n",
    "data_frame.loc[:,24].unique()\n",
    "data_frame.groupby([24]).size()"
   ]
  },
  {
   "cell_type": "code",
   "execution_count": 130,
   "metadata": {},
   "outputs": [
    {
     "data": {
      "text/plain": [
       "15\n",
       "bottle_drinking                     4000\n",
       "hammer_hammering                    4000\n",
       "knife                               4000\n",
       "mug_drinking                        4000\n",
       "none                                1260\n",
       "pen_writing                         4000\n",
       "saw_sawing                          4000\n",
       "screwdriver_screwing(no-release)    4000\n",
       "spoon_stirring                      4000\n",
       "dtype: int64"
      ]
     },
     "execution_count": 130,
     "metadata": {},
     "output_type": "execute_result"
    }
   ],
   "source": [
    "train_df = pd.read_csv(\"../data/pose/per_user/chamod_q_train.txt\", header=None)\n",
    "test_df = pd.read_csv(\"../data/pose/per_user/chamod_q_test.txt\", header=None)\n",
    "\n",
    "x_test = test_df.loc[:,:14]\n",
    "y_test = test_df.loc[:,15]\n",
    "\n",
    "x_train = train_df.loc[:,:14]\n",
    "y_train = train_df.loc[:,15]\n",
    "\n",
    "x_combined = x_train.append(x_test)\n",
    "x_combined =(x_combined-x_combined.mean())/x_combined.std()+0.000001 \n",
    "x_combined = x_combined.reset_index(drop=True)\n",
    "\n",
    "x_train = x_combined.loc[:x_train.shape[0]-1, :]\n",
    "x_test = x_combined.loc[x_train.shape[0]:, :]\n",
    "\n",
    "train_df.groupby([15]).size()"
   ]
  },
  {
   "cell_type": "code",
   "execution_count": 123,
   "metadata": {},
   "outputs": [
    {
     "name": "stdout",
     "output_type": "stream",
     "text": [
      "SVM score: 0.629509379509\n",
      "                                  precision    recall  f1-score   support\n",
      "\n",
      "                 bottle_drinking       1.00      1.00      1.00      2000\n",
      "                hammer_hammering       0.00      0.00      0.00      2000\n",
      "                           knife       0.57      0.83      0.68      2000\n",
      "                    mug_drinking       0.97      0.99      0.98      2000\n",
      "                            none       1.00      1.00      1.00       632\n",
      "                     pen_writing       0.99      1.00      1.00      2000\n",
      "                      saw_sawing       0.17      0.10      0.12      2000\n",
      "screwdriver_screwing(no-release)       0.35      1.00      0.51      2000\n",
      "                  spoon_stirring       0.00      0.00      0.00      2000\n",
      "\n",
      "                     avg / total       0.52      0.63      0.55     16632\n",
      "\n"
     ]
    },
    {
     "name": "stderr",
     "output_type": "stream",
     "text": [
      "/Library/Frameworks/Python.framework/Versions/3.6/lib/python3.6/site-packages/sklearn/metrics/classification.py:1113: UndefinedMetricWarning: Precision and F-score are ill-defined and being set to 0.0 in labels with no predicted samples.\n",
      "  'precision', 'predicted', average, warn_for)\n"
     ]
    }
   ],
   "source": [
    "svm = SVC()\n",
    "svm.fit(x_train, y_train)\n",
    "y_pred=svm.predict(x_test)\n",
    "score = accuracy_score(y_test, y_pred)\n",
    "print('SVM score: ' + str(score))\n",
    "print(classification_report(y_test, y_pred))"
   ]
  },
  {
   "cell_type": "code",
   "execution_count": 124,
   "metadata": {},
   "outputs": [
    {
     "name": "stdout",
     "output_type": "stream",
     "text": [
      "RF score: 0.647907647908\n",
      "                                  precision    recall  f1-score   support\n",
      "\n",
      "                 bottle_drinking       0.97      1.00      0.99      2000\n",
      "                hammer_hammering       0.00      0.00      0.00      2000\n",
      "                           knife       0.80      0.93      0.86      2000\n",
      "                    mug_drinking       0.95      0.98      0.97      2000\n",
      "                            none       1.00      1.00      1.00       632\n",
      "                     pen_writing       1.00      1.00      1.00      2000\n",
      "                      saw_sawing       0.45      0.19      0.27      2000\n",
      "screwdriver_screwing(no-release)       0.29      0.97      0.45      2000\n",
      "                  spoon_stirring       0.00      0.00      0.00      2000\n",
      "\n",
      "                     avg / total       0.58      0.65      0.58     16632\n",
      "\n",
      "[[2000    0    0    0    0    0    0    0    0]\n",
      " [   0    0  471   96    0    0  463  970    0]\n",
      " [   0   65 1852    0    0    0    4   77    2]\n",
      " [   0    0    0 1965    0    0    0   35    0]\n",
      " [   0    0    0    0  632    0    0    0    0]\n",
      " [   0    0    0    0    0 2000    0    0    0]\n",
      " [   0    0    0    0    0    0  388 1612    0]\n",
      " [  52    9    0    0    0    0    0 1939    0]\n",
      " [   2   13    0    0    0    1    0 1984    0]]\n"
     ]
    }
   ],
   "source": [
    "rf = RandomForestClassifier()\n",
    "rf.fit(x_train, y_train)\n",
    "y_pred=rf.predict(x_test)\n",
    "score = accuracy_score(y_test, y_pred)\n",
    "print('RF score: ' + str(score))\n",
    "print(classification_report(y_test, y_pred))\n",
    "print(confusion_matrix(y_test, y_pred))"
   ]
  },
  {
   "cell_type": "code",
   "execution_count": 127,
   "metadata": {},
   "outputs": [
    {
     "name": "stdout",
     "output_type": "stream",
     "text": [
      "NN score: 0.622113997114\n",
      "                                  precision    recall  f1-score   support\n",
      "\n",
      "                 bottle_drinking       0.94      1.00      0.97      2000\n",
      "                hammer_hammering       0.00      0.00      0.00      2000\n",
      "                           knife       0.81      0.91      0.86      2000\n",
      "                    mug_drinking       0.86      0.97      0.91      2000\n",
      "                            none       0.99      1.00      1.00       632\n",
      "                     pen_writing       1.00      1.00      1.00      2000\n",
      "                      saw_sawing       0.13      0.10      0.11      2000\n",
      "screwdriver_screwing(no-release)       0.32      0.88      0.47      2000\n",
      "                  spoon_stirring       0.00      0.00      0.00      2000\n",
      "\n",
      "                     avg / total       0.53      0.62      0.56     16632\n",
      "\n",
      "[[2000    0    0    0    0    0    0    0    0]\n",
      " [   0    0  428  324    0    0 1242    6    0]\n",
      " [   0   43 1818    0    0    0  128   11    0]\n",
      " [   0    0    0 1940    0    0    0   60    0]\n",
      " [   0    0    0    0  632    0    0    0    0]\n",
      " [   0    0    0    0    0 2000    0    0    0]\n",
      " [   0    0    0    0    0    0  205 1795    0]\n",
      " [   0  244    0    0    4    0    0 1752    0]\n",
      " [ 120   23    0    0    0    0    0 1857    0]]\n"
     ]
    },
    {
     "name": "stderr",
     "output_type": "stream",
     "text": [
      "/Library/Frameworks/Python.framework/Versions/3.6/lib/python3.6/site-packages/sklearn/metrics/classification.py:1113: UndefinedMetricWarning: Precision and F-score are ill-defined and being set to 0.0 in labels with no predicted samples.\n",
      "  'precision', 'predicted', average, warn_for)\n"
     ]
    }
   ],
   "source": [
    "clf = MLPClassifier(activation='relu', hidden_layer_sizes=(200,200), max_iter=200000, learning_rate='adaptive', early_stopping=False)\n",
    "clf.fit(x_train, y_train)\n",
    "y_pred=clf.predict(x_test)\n",
    "score = accuracy_score(y_test, y_pred)\n",
    "print('NN score: ' + str(score))\n",
    "print(classification_report(y_test, y_pred))\n",
    "print(confusion_matrix(y_test, y_pred))"
   ]
  },
  {
   "cell_type": "code",
   "execution_count": null,
   "metadata": {
    "collapsed": true
   },
   "outputs": [],
   "source": []
  }
 ],
 "metadata": {
  "kernelspec": {
   "display_name": "Python 3",
   "language": "python",
   "name": "python3"
  },
  "language_info": {
   "codemirror_mode": {
    "name": "ipython",
    "version": 3
   },
   "file_extension": ".py",
   "mimetype": "text/x-python",
   "name": "python",
   "nbconvert_exporter": "python",
   "pygments_lexer": "ipython3",
   "version": "3.6.1"
  }
 },
 "nbformat": 4,
 "nbformat_minor": 1
}
