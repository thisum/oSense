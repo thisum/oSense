{
 "cells": [
  {
   "cell_type": "code",
   "execution_count": 1,
   "metadata": {},
   "outputs": [
    {
     "name": "stderr",
     "output_type": "stream",
     "text": [
      "/Library/Frameworks/Python.framework/Versions/3.6/lib/python3.6/site-packages/sklearn/cross_validation.py:44: DeprecationWarning: This module was deprecated in version 0.18 in favor of the model_selection module into which all the refactored classes and functions are moved. Also note that the interface of the new CV iterators are different from that of this module. This module will be removed in 0.20.\n",
      "  \"This module will be removed in 0.20.\", DeprecationWarning)\n",
      "/Library/Frameworks/Python.framework/Versions/3.6/lib/python3.6/site-packages/sklearn/grid_search.py:43: DeprecationWarning: This module was deprecated in version 0.18 in favor of the model_selection module into which all the refactored classes and functions are moved. This module will be removed in 0.20.\n",
      "  DeprecationWarning)\n"
     ]
    }
   ],
   "source": [
    "import numpy as np\n",
    "import pandas as pd\n",
    "import matplotlib.pyplot as plt\n",
    "from scipy import signal\n",
    "from scipy import fftpack\n",
    "import os\n",
    "from sklearn.utils import shuffle\n",
    "from sklearn.model_selection import train_test_split\n",
    "from sklearn import svm\n",
    "from sklearn.grid_search import GridSearchCV\n",
    "from sklearn.metrics import classification_report\n",
    "from sklearn.metrics import accuracy_score\n",
    "from sklearn.metrics import confusion_matrix\n",
    "from sklearn.svm import SVC\n",
    "from sklearn.neural_network import MLPClassifier\n",
    "from sklearn.ensemble import RandomForestClassifier\n",
    "from sklearn import metrics\n",
    "\n",
    "%matplotlib inline"
   ]
  },
  {
   "cell_type": "code",
   "execution_count": 80,
   "metadata": {},
   "outputs": [],
   "source": [
    "train = pd.read_csv(\"../data/ensemble/chamod_train.txt\", header=None)\n",
    "test = pd.read_csv(\"../data/ensemble/chamod_test.txt\", header=None)\n",
    "valid = pd.read_csv(\"../data/ensemble/chamod_valid.txt\", header=None)"
   ]
  },
  {
   "cell_type": "code",
   "execution_count": 81,
   "metadata": {},
   "outputs": [],
   "source": [
    "x_train = train.loc[: , :14]\n",
    "y_train = train.loc[: , 15]\n",
    "\n",
    "x_test = test.loc[: , :14]\n",
    "y_test = test.loc[: , 15]\n",
    "\n",
    "x_valid = valid.loc[: , :14]\n",
    "y_valid = valid.loc[:,15]"
   ]
  },
  {
   "cell_type": "code",
   "execution_count": 82,
   "metadata": {},
   "outputs": [],
   "source": [
    "clf = MLPClassifier(activation='relu', hidden_layer_sizes=(200, 200), max_iter=200000, learning_rate='adaptive', early_stopping=False)\n",
    "clf.fit(x_train, y_train)\n",
    "y_pred = clf.predict(x_test)\n",
    "score = accuracy_score(y_test, y_pred)\n",
    "report = classification_report(y_test, y_pred)\n",
    "conf_matx = confusion_matrix(y_test, y_pred)"
   ]
  },
  {
   "cell_type": "code",
   "execution_count": 83,
   "metadata": {},
   "outputs": [
    {
     "name": "stdout",
     "output_type": "stream",
     "text": [
      "0.782296373537\n",
      "                                  precision    recall  f1-score   support\n",
      "\n",
      "                 bottle_drinking       0.94      0.55      0.70      2000\n",
      "                hammer_hammering       0.73      0.30      0.42      2000\n",
      "                           knife       1.00      0.82      0.90      2000\n",
      "                    mug_drinking       1.00      1.00      1.00      2000\n",
      "                            none       0.40      0.94      0.56      1262\n",
      "                     pen_writing       0.95      0.78      0.85      2000\n",
      "                      saw_sawing       0.98      1.00      0.99      2000\n",
      "screwdriver_screwing(no-release)       0.80      0.71      0.75      2000\n",
      "                  spoon_stirring       0.63      1.00      0.77      2000\n",
      "\n",
      "                     avg / total       0.84      0.78      0.78     17262\n",
      "\n",
      "[[1109    0    0    0  891    0    0    0    0]\n",
      " [   0  597    0    0    0    0    0  245 1158]\n",
      " [   0  223 1634    0    0    0   44   99    0]\n",
      " [   0    0    0 2000    0    0    0    0    0]\n",
      " [  70    0    0    0 1192    0    0    0    0]\n",
      " [   0    0    0    0  448 1552    0    0    0]\n",
      " [   0    0    0    0    0    0 2000    0    0]\n",
      " [   0    2    0    0  485   87    0 1422    4]\n",
      " [   0    0    0    0    0    0    0    2 1998]]\n"
     ]
    }
   ],
   "source": [
    "print(score)\n",
    "print(report)\n",
    "print(conf_matx)"
   ]
  },
  {
   "cell_type": "code",
   "execution_count": 90,
   "metadata": {},
   "outputs": [
    {
     "name": "stdout",
     "output_type": "stream",
     "text": [
      "['hammer_hammering']\n"
     ]
    },
    {
     "name": "stderr",
     "output_type": "stream",
     "text": [
      "/Library/Frameworks/Python.framework/Versions/3.6/lib/python3.6/site-packages/sklearn/utils/validation.py:395: DeprecationWarning: Passing 1d arrays as data is deprecated in 0.17 and will raise ValueError in 0.19. Reshape your data either using X.reshape(-1, 1) if your data has a single feature or X.reshape(1, -1) if it contains a single sample.\n",
      "  DeprecationWarning)\n"
     ]
    }
   ],
   "source": [
    "y_valid_pred = clf.predict(x_valid.loc[1200,:])\n",
    "# score = accuracy_score(y_valid, y_valid_pred)\n",
    "# conf_matx = confusion_matrix(y_valid, y_valid_pred)\n",
    "print(y_valid_pred)\n",
    "# print(conf_matx)"
   ]
  },
  {
   "cell_type": "code",
   "execution_count": 89,
   "metadata": {},
   "outputs": [
    {
     "data": {
      "text/plain": [
       "0     0.764611\n",
       "1     0.001541\n",
       "2     0.355469\n",
       "3     0.552290\n",
       "4    -0.772839\n",
       "5     0.305934\n",
       "6     0.368100\n",
       "7    -0.244896\n",
       "8     0.718136\n",
       "9     1.037309\n",
       "10    1.156954\n",
       "11    0.007032\n",
       "12   -0.496758\n",
       "13   -1.028214\n",
       "14    0.265190\n",
       "Name: 1200, dtype: float64"
      ]
     },
     "execution_count": 89,
     "metadata": {},
     "output_type": "execute_result"
    }
   ],
   "source": [
    "x_valid.loc[1200,:]"
   ]
  },
  {
   "cell_type": "code",
   "execution_count": null,
   "metadata": {
    "collapsed": true
   },
   "outputs": [],
   "source": []
  }
 ],
 "metadata": {
  "kernelspec": {
   "display_name": "Python 3",
   "language": "python",
   "name": "python3"
  },
  "language_info": {
   "codemirror_mode": {
    "name": "ipython",
    "version": 3
   },
   "file_extension": ".py",
   "mimetype": "text/x-python",
   "name": "python",
   "nbconvert_exporter": "python",
   "pygments_lexer": "ipython3",
   "version": "3.6.1"
  }
 },
 "nbformat": 4,
 "nbformat_minor": 1
}
